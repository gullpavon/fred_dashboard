{
 "cells": [
  {
   "cell_type": "code",
   "execution_count": 1,
   "metadata": {},
   "outputs": [],
   "source": [
    "import config\n",
    "import helpers\n",
    "\n",
    "import pandas as pd\n",
    "from fredapi import Fred\n",
    "import matplotlib.pyplot as plt\n",
    "from IPython.core.pylabtools import figsize\n",
    "%matplotlib inline\n",
    "\n",
    "#Plotly Dash components \n",
    "import jupyterlab_dash\n",
    "import dash\n",
    "import dash_core_components as dcc\n",
    "import dash_html_components as html\n",
    "external_stylesheets = ['https://github.com/gullpavon/fred_dashboard/blob/master/helpers/style.css']\n",
    "\n",
    "#Connect to Federal Reserve Economic Data\n",
    "fred = Fred(api_key=config.fred_api_code)\n",
    "\n",
    "#Search for FRED data\n",
    "#fred.search('mortgage').T\n"
   ]
  },
  {
   "cell_type": "code",
   "execution_count": 2,
   "metadata": {},
   "outputs": [
    {
     "output_type": "stream",
     "name": "stdout",
     "text": "* Serving Flask app \"__main__\" (lazy loading)\n * Environment: production\n\u001b[31m   WARNING: This is a development server. Do not use it in a production deployment.\u001b[0m\n\u001b[2m   Use a production WSGI server instead.\u001b[0m\n * Debug mode: off\n * Running on http://127.0.0.1:8050/ (Press CTRL+C to quit)\n127.0.0.1 - - [27/Apr/2020 00:03:12] \"\u001b[37mGET / HTTP/1.1\u001b[0m\" 200 -\n127.0.0.1 - - [27/Apr/2020 00:03:12] \"\u001b[37mGET /helpers/style.css HTTP/1.1\u001b[0m\" 200 -\n127.0.0.1 - - [27/Apr/2020 00:03:13] \"\u001b[37mGET /_dash-layout HTTP/1.1\u001b[0m\" 200 -\n127.0.0.1 - - [27/Apr/2020 00:03:13] \"\u001b[37mGET /_dash-dependencies HTTP/1.1\u001b[0m\" 200 -\n127.0.0.1 - - [27/Apr/2020 00:03:13] \"\u001b[37mGET /_favicon.ico?v=1.11.0 HTTP/1.1\u001b[0m\" 200 -\n127.0.0.1 - - [27/Apr/2020 00:03:20] \"\u001b[37mGET /favicon.ico HTTP/1.1\u001b[0m\" 200 -\n127.0.0.1 - - [27/Apr/2020 00:03:23] \"\u001b[37mGET /helpers/style.css HTTP/1.1\u001b[0m\" 200 -\n127.0.0.1 - - [27/Apr/2020 00:03:23] \"\u001b[37mGET /helpers/style.css HTTP/1.1\u001b[0m\" 200 -\n127.0.0.1 - - [27/Apr/2020 00:03:24] \"\u001b[37mGET /_dash-layout HTTP/1.1\u001b[0m\" 200 -\n127.0.0.1 - - [27/Apr/2020 00:03:24] \"\u001b[37mGET /_dash-dependencies HTTP/1.1\u001b[0m\" 200 -\n"
    }
   ],
   "source": [
    "#Dash App\n",
    "app = dash.Dash(__name__, external_stylesheets=external_stylesheets)\n",
    "\n",
    "app.layout = html.Div(children=[\n",
    "    html.H1(children='Hello Dash'),\n",
    "\n",
    "    html.Div(children='''\n",
    "        Dash: A web application framework for Python.\n",
    "    '''),\n",
    "\n",
    "    dcc.Graph(\n",
    "        id='example-graph',\n",
    "        figure={\n",
    "            'data': [\n",
    "                {'x': [1, 2, 3], 'y': [4, 1, 2], 'type': 'bar', 'name': 'SF'},\n",
    "                {'x': [1, 2, 3], 'y': [2, 4, 5], 'type': 'bar', 'name': u'Montréal'},\n",
    "            ],\n",
    "            'layout': {\n",
    "                'title': 'Dash Data Visualization'\n",
    "            }\n",
    "        }\n",
    "    )\n",
    "])\n",
    "\n",
    "if __name__ == '__main__':\n",
    "    app.run_server(debug=False)"
   ]
  },
  {
   "cell_type": "code",
   "execution_count": null,
   "metadata": {},
   "outputs": [],
   "source": [
    "\n",
    "MORTGAGE30US = fred.get_series_all_releases('MORTGAGE30US')\n",
    "MORTGAGE30US = MORTGAGE30US[MORTGAGE30US.date >= '2020-01-01']\n",
    "\n"
   ]
  },
  {
   "cell_type": "code",
   "execution_count": null,
   "metadata": {},
   "outputs": [],
   "source": [
    "#30 Yr Mortgage Rates\n",
    "MORTGAGE30US.plot.line(x='date', y='value')\n",
    "plt.title ('30 Yr Mortgage Rates')\n",
    "plt.xlabel ('Date')\n",
    "plt.ylabel ('Rate')\n"
   ]
  },
  {
   "cell_type": "code",
   "execution_count": null,
   "metadata": {},
   "outputs": [],
   "source": [
    "\n",
    "#Unemployment Rate\n",
    "#For Unemployment number use: UNEMPLOY\n",
    "UNRATE = fred.get_series_all_releases('UNRATE')\n",
    "UNRATE = UNRATE[UNRATE.date >= '2019-01-01']\n",
    "\n",
    "UNRATE.plot.line(x='date', y='value')\n",
    "plt.title ('Unemployment Rate')\n",
    "plt.xlabel ('Date')\n",
    "plt.ylabel ('Rate')"
   ]
  },
  {
   "cell_type": "code",
   "execution_count": null,
   "metadata": {},
   "outputs": [],
   "source": [
    "\n",
    "\n",
    "#Fed Funds Rate\n",
    "FEDFUNDS = fred.get_series_all_releases('FEDFUNDS')\n",
    "FEDFUNDS = FEDFUNDS[FEDFUNDS.date >= '2019-01-01']\n",
    "\n",
    "FEDFUNDS.plot.line(x='date', y='value')\n",
    "plt.title ('Federal Funds Rate')\n",
    "plt.xlabel ('Date')\n",
    "plt.ylabel ('Rate')"
   ]
  },
  {
   "cell_type": "code",
   "execution_count": null,
   "metadata": {},
   "outputs": [],
   "source": [
    "\n",
    "#10-2 Treasury Yield Spread\n",
    "T10Y2Y = fred.get_series_all_releases('T10Y2Y')\n",
    "T10Y2Y = T10Y2Y[T10Y2Y.date >= '2019-01-01']\n",
    "T10Y2Y.dropna(inplace= True)\n",
    "\n",
    "T10Y2Y.plot.line(x='date', y='value')\n",
    "plt.title ('10-Year Treasury Constant Maturity Minus 2-Year Treasury Constant Maturity ')\n",
    "plt.xlabel ('Date')\n",
    "plt.ylabel ('Rate')\n",
    "plt.axhline(0, 0, 1, label='0')"
   ]
  },
  {
   "cell_type": "code",
   "execution_count": null,
   "metadata": {},
   "outputs": [],
   "source": [
    "#10-2 Treasury Yield Spread\n",
    "T10YIE = fred.get_series_all_releases('T10YIE')\n",
    "T10YIE = T10YIE[T10YIE.date >= '2020-01-01']\n",
    "T10YIE.dropna(inplace= True)\n",
    "\n",
    "\n",
    "T10YIE.plot.line(x='date', y='value')\n",
    "plt.title ('10-Year Breakeven Inflation Rate')\n",
    "plt.xlabel ('Date')\n",
    "plt.ylabel ('Rate')\n",
    "plt.axhline(0, 0, 1, label='0')\n"
   ]
  },
  {
   "cell_type": "code",
   "execution_count": null,
   "metadata": {},
   "outputs": [],
   "source": [
    "\n",
    "CSUSHPINSA = fred.get_series_all_releases('CSUSHPINSA')\n",
    "CSUSHPINSA = CSUSHPINSA[CSUSHPINSA.date >= '2019-01-01']\n",
    "CSUSHPINSA.dropna(inplace= True)\n",
    "CSUSHPINSA.plot.line(x='date', y='value')\n",
    "\n",
    "plt.title ('S&P/Case-Shiller U.S. National Home Price Index')\n",
    "plt.xlabel ('Date')\n",
    "plt.ylabel ('Rate')\n",
    "plt.axhline(0, 0, 1, label='0')"
   ]
  },
  {
   "cell_type": "code",
   "execution_count": null,
   "metadata": {},
   "outputs": [],
   "source": []
  },
  {
   "cell_type": "code",
   "execution_count": null,
   "metadata": {},
   "outputs": [],
   "source": [
    "\n",
    "IOER = fred.get_series_all_releases('IOER')\n",
    "IOER = IOER[IOER.date >= '2019-01-01']\n",
    "IOER.dropna(inplace= True)\n",
    "IOER.plot.line(x='date', y='value')\n",
    "\n",
    "plt.title ('Interest Rate on Excess Reserves')\n",
    "plt.xlabel ('Date')\n",
    "plt.ylabel ('Rate')\n",
    "plt.axhline(0, 0, 1, label='0')"
   ]
  },
  {
   "cell_type": "code",
   "execution_count": null,
   "metadata": {},
   "outputs": [],
   "source": [
    " \"\"\"Bank Prime Loan Rate (MPRIME)\n",
    " Existing Home Sales (EXHOSLUSM495S)\n",
    " Monthly Supply of Houses in the United States (MSACSR)\n",
    " Real Gross Domestic Product (GDPC1)\n",
    " 10-Year Treasury Constant Maturity Rate (DGS10)\"\"\""
   ]
  },
  {
   "cell_type": "code",
   "execution_count": null,
   "metadata": {},
   "outputs": [],
   "source": []
  }
 ],
 "metadata": {
  "language_info": {
   "codemirror_mode": {
    "name": "ipython",
    "version": 3
   },
   "file_extension": ".py",
   "mimetype": "text/x-python",
   "name": "python",
   "nbconvert_exporter": "python",
   "pygments_lexer": "ipython3",
   "version": "3.7.4-final"
  },
  "orig_nbformat": 2,
  "kernelspec": {
   "name": "python37464bite750742036c143479dcd7acac547afc1",
   "display_name": "Python 3.7.4 64-bit"
  }
 },
 "nbformat": 4,
 "nbformat_minor": 2
}